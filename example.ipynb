{
 "metadata": {
  "kernelspec": {
   "language": "python",
   "display_name": "Python 3",
   "name": "python3"
  },
  "language_info": {
   "name": "python",
   "version": "3.7.12",
   "mimetype": "text/x-python",
   "codemirror_mode": {
    "name": "ipython",
    "version": 3
   },
   "pygments_lexer": "ipython3",
   "nbconvert_exporter": "python",
   "file_extension": ".py"
  }
 },
 "nbformat_minor": 4,
 "nbformat": 4,
 "cells": [
  {
   "cell_type": "code",
   "source": [
    "import numpy as np\n",
    "import tensorflow as tf\n",
    "import tensorflow_datasets as tfds\n",
    "import ood_detector\n",
    "\n",
    "print(\"TF version:\", tf.__version__)\n",
    "print(\"GPU is\", \"available\" if tf.config.list_physical_devices('GPU') else \"NOT AVAILABLE\")"
   ],
   "metadata": {
    "execution": {
     "iopub.status.busy": "2022-05-13T20:03:50.039561Z",
     "iopub.execute_input": "2022-05-13T20:03:50.040334Z",
     "iopub.status.idle": "2022-05-13T20:03:59.723276Z",
     "shell.execute_reply.started": "2022-05-13T20:03:50.040294Z",
     "shell.execute_reply": "2022-05-13T20:03:59.722357Z"
    },
    "trusted": true
   },
   "execution_count": 1,
   "outputs": [
    {
     "name": "stdout",
     "output_type": "stream",
     "text": [
      "TF version: 2.6.2\n",
      "GPU is NOT AVAILABLE\n"
     ]
    }
   ]
  },
  {
   "cell_type": "code",
   "source": [
    "N_IMAGES = 32\n",
    "BATCH_SIZE = 16"
   ],
   "metadata": {
    "execution": {
     "iopub.status.busy": "2022-05-13T20:05:15.818688Z",
     "iopub.execute_input": "2022-05-13T20:05:15.819041Z",
     "iopub.status.idle": "2022-05-13T20:05:15.823536Z",
     "shell.execute_reply.started": "2022-05-13T20:05:15.819000Z",
     "shell.execute_reply": "2022-05-13T20:05:15.822654Z"
    },
    "trusted": true
   },
   "execution_count": 2,
   "outputs": []
  },
  {
   "cell_type": "code",
   "source": [
    "model = tf.keras.applications.EfficientNetB0()\n",
    "\n",
    "# ood dataset\n",
    "x_ood = np.random.normal(loc=0.5, scale=0.2, size=(N_IMAGES, 224, 224, 3))\n",
    "\n",
    "# id dataset\n",
    "ds_id = tfds.load('imagenette/160px-v2', split=f'validation[:{N_IMAGES}]', as_supervised=True, try_gcs=True)\n",
    "ds_id = ds_id.map(\n",
    "    lambda x, y: (tf.image.resize(tf.image.convert_image_dtype(x, tf.float32), (224, 224))))  # [0, 1]\n",
    "ds_id = ds_id.map(tf.keras.applications.mobilenet_v3.preprocess_input)\n",
    "ds_id = ds_id.batch(BATCH_SIZE)\n",
    "x_id = np.concatenate([a.numpy() for a in ds_id], axis=0)\n"
   ],
   "metadata": {
    "execution": {
     "iopub.status.busy": "2022-05-13T20:08:40.460450Z",
     "iopub.execute_input": "2022-05-13T20:08:40.460832Z",
     "iopub.status.idle": "2022-05-13T20:08:43.841017Z",
     "shell.execute_reply.started": "2022-05-13T20:08:40.460798Z",
     "shell.execute_reply": "2022-05-13T20:08:43.840094Z"
    },
    "trusted": true
   },
   "execution_count": 3,
   "outputs": []
  },
  {
   "cell_type": "code",
   "execution_count": 4,
   "outputs": [
    {
     "name": "stdout",
     "output_type": "stream",
     "text": [
      "Help on package ood_detector:\n",
      "\n",
      "NAME\n",
      "    ood_detector\n",
      "\n",
      "PACKAGE CONTENTS\n",
      "    detectors (package)\n",
      "    utils (package)\n",
      "\n",
      "FILE\n",
      "    /home/tpoppo/Documenti/GitHub/ood-post-hoc/ood_detector/__init__.py\n",
      "\n",
      "\n"
     ]
    }
   ],
   "source": [
    "help(ood_detector)"
   ],
   "metadata": {
    "collapsed": false
   }
  },
  {
   "cell_type": "code",
   "source": [
    "detector = ood_detector.detectors.MSPDetector(model, args_predict={'batch_size': BATCH_SIZE})\n",
    "detector"
   ],
   "metadata": {
    "execution": {
     "iopub.status.busy": "2022-05-13T20:05:33.591293Z",
     "iopub.execute_input": "2022-05-13T20:05:33.591581Z",
     "iopub.status.idle": "2022-05-13T20:06:48.036776Z",
     "shell.execute_reply.started": "2022-05-13T20:05:33.591550Z",
     "shell.execute_reply": "2022-05-13T20:06:48.035123Z"
    },
    "trusted": true
   },
   "execution_count": 7,
   "outputs": [
    {
     "data": {
      "text/plain": "<ood_detector.detectors.msp.MSPDetector at 0x7f32fc8a0cf8>"
     },
     "execution_count": 7,
     "metadata": {},
     "output_type": "execute_result"
    }
   ]
  },
  {
   "cell_type": "code",
   "execution_count": 8,
   "outputs": [
    {
     "data": {
      "text/plain": "array([0.03125, 0.03125, 0.03125, 0.03125, 0.03125, 0.03125, 0.03125,\n       0.03125, 0.03125, 0.03125, 0.03125, 0.03125, 0.03125, 0.03125,\n       0.03125, 0.03125, 0.03125, 0.03125, 0.03125, 0.03125, 0.03125,\n       0.03125, 0.03125, 0.03125, 0.03125, 0.03125, 0.03125, 0.03125,\n       0.03125, 0.03125, 0.03125, 0.03125], dtype=float32)"
     },
     "execution_count": 8,
     "metadata": {},
     "output_type": "execute_result"
    }
   ],
   "source": [
    "score_id = detector.predict(x_id)\n",
    "score_ood = detector.predict(x_ood)\n",
    "score_id"
   ],
   "metadata": {
    "collapsed": false
   }
  },
  {
   "cell_type": "code",
   "execution_count": 6,
   "outputs": [],
   "source": [
    "score_id = detector.predict(x_id)\n",
    "score_ood = detector.predict(x_ood)\n",
    "\n",
    "score_auc = ood_detector.utils.evaluate_aucroc(detector, x_id, x_ood)\n",
    "score_fpr95 = ood_detector.utils.evaluate_fpr_at_95_tpr(detector, x_id, x_ood)"
   ],
   "metadata": {
    "collapsed": false
   }
  }
 ]
}
